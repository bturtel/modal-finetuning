{
 "cells": [
  {
   "cell_type": "markdown",
   "metadata": {},
   "source": [
    "# Adjustments for Forecasting\n",
    "\n",
    "- See: [grpo_training.ipynb](https://github.com/lightning-rod-labs/llm_forecasting/blob/600d50a11f996d82b0aafc7bf0d9270d1afcb9c1/notebooks/grpo/grpo_training.ipynb) and \n",
    "- Model: \"deepseek-ai/DeepSeek-R1-Distill-Qwen-14B\"\n",
    "- Dataset: \"deepseek-ai_DeepSeek-R1-Distill-Llama-70B-questions-polymarket-set-1-22-zero-shot-chat-template\"\n",
    "\n",
    "- Reward function: [See model_evaluation.py](https://github.com/lightning-rod-labs/llm_forecasting/blob/df0dded24bdc572c02c124984f6935d1e8e91276/scripts/fine_tune/model_evaluation.py)"
   ]
  }
 ],
 "metadata": {
  "language_info": {
   "name": "python"
  }
 },
 "nbformat": 4,
 "nbformat_minor": 2
}
